{
 "metadata": {
  "language_info": {
   "codemirror_mode": {
    "name": "ipython",
    "version": 3
   },
   "file_extension": ".py",
   "mimetype": "text/x-python",
   "name": "python",
   "nbconvert_exporter": "python",
   "pygments_lexer": "ipython3",
   "version": 3
  },
  "orig_nbformat": 2
 },
 "nbformat": 4,
 "nbformat_minor": 2,
 "cells": [
  {
   "source": [
    "# Lab Four\n",
    "---\n",
    "\n",
    "For this lab we're going to be messing around with Markdown!\n",
    "\n",
    "Our Goals are:\n",
    "- Using Markdown!\n",
    "\n",
    "I want you to describe to me your process of converting the assignment and making it DRY. \n",
    "\n",
    "Please show the ability to:\n",
    "- Make a header\n",
    "- Make a list (ordered or unordered)\n",
    "- Link the Markdown Guide from the lesson. \n",
    "- Artuculate your thought process."
   ],
   "cell_type": "markdown",
   "metadata": {}
  },
  {
   "source": [
    "# Header\n",
    "\n",
    "- First item\n",
    "- Second item\n",
    "\n",
    "Markdown link: https://www.markdownguide.org/\n",
    "\n",
    "When I saw that there were a bunch of lines doing the same thing with only changing the input number, I knew that would have to be a loop. The instructions say to make functions for repeated code, and because of the withdrawl/deposit process doing different things, I knew I should make separate funcitons for each. Whether it is a withdrawl or deposit is determined simply by whether the number change is negative or positive, so I had the loop decide what to do based on that. For withdrawls, the math of it is wierd with it always taking a negative number, but you logically want to be subtracting that amount, so I just subtracted the absolute value of the value change in the function. One thing I found very interesting that I found out and used is how you can return more than one thing from a function, and also set the value of more than one variable to different things in one equals statement. I used this for the deposit function adding money to two accounts by having that function return the new values of both accounts and set both accounts equal to the output."
   ],
   "cell_type": "markdown",
   "metadata": {}
  }
 ]
}