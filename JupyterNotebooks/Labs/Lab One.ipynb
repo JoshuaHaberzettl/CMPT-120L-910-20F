{
 "metadata": {
  "language_info": {
   "codemirror_mode": {
    "name": "ipython",
    "version": 3
   },
   "file_extension": ".py",
   "mimetype": "text/x-python",
   "name": "python",
   "nbconvert_exporter": "python",
   "pygments_lexer": "ipython3",
   "version": "3.8.5-final"
  },
  "orig_nbformat": 2,
  "kernelspec": {
   "name": "python38564bit2b79a3a2e6104b81a49c17c55f0a4e24",
   "display_name": "Python 3.8.5 64-bit"
  }
 },
 "nbformat": 4,
 "nbformat_minor": 2,
 "cells": [
  {
   "cell_type": "markdown",
   "metadata": {},
   "source": [
    "# Lab One\n",
    "---\n",
    "\n",
    "Ok for this lab we're going to reiterate a lot of the things that we went over in class.\n",
    "\n",
    "Our Goals are:\n",
    "- Defining variables\n",
    "- Using math\n",
    "- Manipulating variables\n",
    "- Changing data types\n",
    "- Playing with lists"
   ]
  },
  {
   "cell_type": "code",
   "execution_count": 10,
   "metadata": {
    "tags": []
   },
   "outputs": [
    {
     "output_type": "stream",
     "name": "stdout",
     "text": "7\nJosh\nTrue\n4.2\n"
    }
   ],
   "source": [
    "# Define 4 variables, one of each type listed: [Integer, String, Boolean, Float]. Print all 4.\n",
    "numOfCars = 7\n",
    "name = \"Josh\"\n",
    "paradox = True\n",
    "mathHomeworkAnswer = 4.2\n",
    "print(numOfCars)\n",
    "print(name)\n",
    "print(paradox)\n",
    "print(mathHomeworkAnswer)"
   ]
  },
  {
   "cell_type": "code",
   "execution_count": 11,
   "metadata": {
    "tags": []
   },
   "outputs": [
    {
     "output_type": "stream",
     "name": "stdout",
     "text": "25\n15.01\n4.0\n0.3992\n0\n"
    }
   ],
   "source": [
    "# With whatever variables you'd like demonstrate the following: [Addition, Subtraction, Division, Multiplication, Modulo]. Print all 5.\n",
    "balance = 20\n",
    "randomBill = 5\n",
    "price = 4.99\n",
    "tax = .08\n",
    "print(balance + randomBill)\n",
    "print(balance-price)\n",
    "print(balance/randomBill)\n",
    "print(price * tax)\n",
    "print(balance % randomBill)"
   ]
  },
  {
   "cell_type": "code",
   "execution_count": 12,
   "metadata": {
    "tags": []
   },
   "outputs": [
    {
     "output_type": "stream",
     "name": "stdout",
     "text": "57\n"
    }
   ],
   "source": [
    "# Using 2 variables and addition print the number 57\n",
    "motherAge = 50\n",
    "childAge = 7\n",
    "print(motherAge+childAge)"
   ]
  },
  {
   "cell_type": "code",
   "execution_count": 13,
   "metadata": {
    "tags": []
   },
   "outputs": [
    {
     "output_type": "stream",
     "name": "stdout",
     "text": "37\n10\n299.99\nFalse\n"
    }
   ],
   "source": [
    "# Change this variable to a string and print\n",
    "number_into_string = \"37\"\n",
    "print(number_into_string)\n",
    "# Change this variable to a integer and print\n",
    "string_into_number = 10\n",
    "print(string_into_number)\n",
    "# Change this variable to a float and print\n",
    "string_into_float = 299.99\n",
    "print(string_into_float)\n",
    "# Change this variable to a boolean and print\n",
    "number_into_boolean = (37==38)\n",
    "print(number_into_boolean)"
   ]
  },
  {
   "cell_type": "code",
   "execution_count": 14,
   "metadata": {},
   "outputs": [],
   "source": [
    "# Make me a list of any type\n",
    "stringList = [\"string\", \"20\", \"twenty\", \"ect\"]"
   ]
  },
  {
   "cell_type": "code",
   "execution_count": null,
   "metadata": {},
   "outputs": [],
   "source": []
  }
 ]
}