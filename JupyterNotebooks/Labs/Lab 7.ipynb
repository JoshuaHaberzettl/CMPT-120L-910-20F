{
 "metadata": {
  "language_info": {
   "codemirror_mode": {
    "name": "ipython",
    "version": 3
   },
   "file_extension": ".py",
   "mimetype": "text/x-python",
   "name": "python",
   "nbconvert_exporter": "python",
   "pygments_lexer": "ipython3",
   "version": "3.8.6-final"
  },
  "orig_nbformat": 2,
  "kernelspec": {
   "name": "python38564bit2b79a3a2e6104b81a49c17c55f0a4e24",
   "display_name": "Python 3.8.5 64-bit"
  }
 },
 "nbformat": 4,
 "nbformat_minor": 2,
 "cells": [
  {
   "cell_type": "code",
   "execution_count": 30,
   "metadata": {},
   "outputs": [
    {
     "output_type": "stream",
     "name": "stdout",
     "text": [
      "Python is 👍\nmonke 🐵\n🤘 :metal: :squirrel: It seems some of the emojis in the documentation don't work\n\nPython is :thumbs_up:\nno more monke :monkey_face:\n:sign_of_the_horns: rip metal\n"
     ]
    }
   ],
   "source": [
    "import emoji\n",
    "print(emoji.emojize('Python is :thumbs_up:'))\n",
    "print(emoji.emojize('monke :monkey_face:'))\n",
    "print(emoji.emojize(\":sign_of_the_horns: :metal: :squirrel: It seems some of the emojis in the documentation don't work\", use_aliases=True))\n",
    "\n",
    "print(emoji.demojize('\\nPython is 👍'))\n",
    "print(emoji.demojize('no more monke 🐵'))\n",
    "print(emoji.demojize('🤘 rip metal'))"
   ]
  },
  {
   "cell_type": "code",
   "execution_count": null,
   "metadata": {},
   "outputs": [],
   "source": []
  }
 ]
}